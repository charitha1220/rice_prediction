{
 "cells": [
  {
   "cell_type": "code",
   "execution_count": 8,
   "id": "4d794450",
   "metadata": {},
   "outputs": [],
   "source": [
    "import tensorflow as tf\n",
    "from PIL import Image\n",
    "from tensorflow.keras import layers"
   ]
  },
  {
   "cell_type": "code",
   "execution_count": 9,
   "id": "eff48d8a",
   "metadata": {},
   "outputs": [
    {
     "data": {
      "image/png": "[encoded data removed]",
      "text/plain": [
       "<PIL.JpegImagePlugin.JpegImageFile image mode=RGB size=250x250 at 0x7FEB2C6BB070>"
      ]
     },
     "execution_count": 9,
     "metadata": {},
     "output_type": "execute_result"
    }
   ],
   "source": [
    "img=Image.open(\"./rice/Rice_Image_Dataset/Basmati/basmatiex.jpg\")\n",
    "img"
   ]
  },
  {
   "cell_type": "code",
   "execution_count": 10,
   "id": "542c760c",
   "metadata": {},
   "outputs": [
    {
     "name": "stdout",
     "output_type": "stream",
     "text": [
      "Found 75000 files belonging to 5 classes.\n"
     ]
    }
   ],
   "source": [
    "data=tf.keras.utils.image_dataset_from_directory(\n",
    "    \"./rice/Rice_Image_Dataset/\",\n",
    "    image_size=(32,32),\n",
    "    color_mode=\"rgb\",\n",
    "    batch_size=7500\n",
    ")"
   ]
  },
  {
   "cell_type": "code",
   "execution_count": 4,
   "id": "9fac263f",
   "metadata": {},
   "outputs": [
    {
     "name": "stderr",
     "output_type": "stream",
     "text": [
      "2022-12-19 18:21:02.391950: W tensorflow/stream_executor/platform/default/dso_loader.cc:64] Could not load dynamic library 'libcuda.so.1'; dlerror: libcuda.so.1: cannot open shared object file: No such file or directory\n",
      "2022-12-19 18:21:02.400177: W tensorflow/stream_executor/cuda/cuda_driver.cc:263] failed call to cuInit: UNKNOWN ERROR (303)\n",
      "2022-12-19 18:21:02.400348: I tensorflow/stream_executor/cuda/cuda_diagnostics.cc:156] kernel driver does not appear to be running on this host (cherry-m): /proc/driver/nvidia/version does not exist\n",
      "2022-12-19 18:21:02.403373: I tensorflow/core/platform/cpu_feature_guard.cc:193] This TensorFlow binary is optimized with oneAPI Deep Neural Network Library (oneDNN) to use the following CPU instructions in performance-critical operations:  AVX2 FMA\n",
      "To enable them in other operations, rebuild TensorFlow with the appropriate compiler flags.\n"
     ]
    }
   ],
   "source": [
    "cnn_model=tf.keras.Sequential([\n",
    "    layers.Conv2D(9,3,padding=\"same\",input_shape=(32,32,3)),\n",
    "    layers.MaxPool2D(),\n",
    "    layers.Conv2D(18,3,padding=\"same\"),\n",
    "    layers.MaxPool2D(),\n",
    "    layers.Conv2D(36,3),\n",
    "    layers.MaxPool2D(),\n",
    "    layers.Flatten(),\n",
    "    layers.Dense(64,activation=\"relu\"),\n",
    "    layers.Dense(5),\n",
    "    layers.Softmax()\n",
    "    \n",
    "])\n",
    "# cnn_model=tf.keras.Sequential([\n",
    "#     layers.Conv2D(18,5,padding=\"same\",activation=\"leaky_relu\",input_shape=(32,32,3)),\n",
    "#     layers.MaxPool2D(),\n",
    "#     layers.Conv2D(18,3,padding=\"same\",activation=\"leaky_relu\"),\n",
    "#     layers.MaxPool2D(),\n",
    "#     layers.Conv2D(36,3,padding=\"same\",activation=\"leaky_relu\"),\n",
    "#     layers.MaxPool2D(),\n",
    "#     layers.Conv2D(36,3,padding=\"same\",activation=\"leaky_relu\"),\n",
    "#     layers.MaxPool2D(),\n",
    "#     layers.Flatten(),\n",
    "#     layers.Dense(100,activation=\"relu\"),\n",
    "#     layers.Dense(5),\n",
    "#     layers.Softmax()\n",
    "    \n",
    "# ])"
   ]
  },
  {
   "cell_type": "code",
   "execution_count": 11,
   "id": "35ccb23b",
   "metadata": {},
   "outputs": [
    {
     "name": "stdout",
     "output_type": "stream",
     "text": [
      "Model: \"sequential\"\n",
      "_________________________________________________________________\n",
      " Layer (type)                Output Shape              Param #   \n",
      "=================================================================\n",
      " conv2d (Conv2D)             (None, 32, 32, 9)         252       \n",
      "                                                                 \n",
      " max_pooling2d (MaxPooling2D  (None, 16, 16, 9)        0         \n",
      " )                                                               \n",
      "                                                                 \n",
      " conv2d_1 (Conv2D)           (None, 16, 16, 18)        1476      \n",
      "                                                                 \n",
      " max_pooling2d_1 (MaxPooling  (None, 8, 8, 18)         0         \n",
      " 2D)                                                             \n",
      "                                                                 \n",
      " conv2d_2 (Conv2D)           (None, 6, 6, 36)          5868      \n",
      "                                                                 \n",
      " max_pooling2d_2 (MaxPooling  (None, 3, 3, 36)         0         \n",
      " 2D)                                                             \n",
      "                                                                 \n",
      " flatten (Flatten)           (None, 324)               0         \n",
      "                                                                 \n",
      " dense (Dense)               (None, 64)                20800     \n",
      "                                                                 \n",
      " dense_1 (Dense)             (None, 5)                 325       \n",
      "                                                                 \n",
      " softmax (Softmax)           (None, 5)                 0         \n",
      "                                                                 \n",
      "=================================================================\n",
      "Total params: 28,721\n",
      "Trainable params: 28,721\n",
      "Non-trainable params: 0\n",
      "_________________________________________________________________\n"
     ]
    }
   ],
   "source": [
    "cnn_model.build(input_shape=(1,32,32,3))\n",
    "cnn_model.summary()"
   ]
  },
  {
   "cell_type": "code",
   "execution_count": 12,
   "id": "f5b7a56c",
   "metadata": {},
   "outputs": [],
   "source": [
    "cnn_model.compile(\n",
    "    loss=tf.keras.losses.categorical_crossentropy,\n",
    "    optimizer=tf.keras.optimizers.Adam(),\n",
    "    metrics=[\"accuracy\"]\n",
    ")"
   ]
  },
  {
   "cell_type": "code",
   "execution_count": 13,
   "id": "4e7d1719",
   "metadata": {},
   "outputs": [
    {
     "name": "stderr",
     "output_type": "stream",
     "text": [
      "2022-12-19 18:23:03.692002: I tensorflow/core/kernels/data/shuffle_dataset_op.cc:390] Filling up shuffle buffer (this may take a while): 688 of 60000\n",
      "2022-12-19 18:23:13.695490: I tensorflow/core/kernels/data/shuffle_dataset_op.cc:390] Filling up shuffle buffer (this may take a while): 1412 of 60000\n",
      "2022-12-19 18:23:23.693969: I tensorflow/core/kernels/data/shuffle_dataset_op.cc:390] Filling up shuffle buffer (this may take a while): 2129 of 60000\n",
      "2022-12-19 18:23:33.696302: I tensorflow/core/kernels/data/shuffle_dataset_op.cc:390] Filling up shuffle buffer (this may take a while): 2871 of 60000\n",
      "2022-12-19 18:23:43.691569: I tensorflow/core/kernels/data/shuffle_dataset_op.cc:390] Filling up shuffle buffer (this may take a while): 3593 of 60000\n",
      "2022-12-19 18:23:53.709149: I tensorflow/core/kernels/data/shuffle_dataset_op.cc:390] Filling up shuffle buffer (this may take a while): 4323 of 60000\n",
      "2022-12-19 18:24:03.690113: I tensorflow/core/kernels/data/shuffle_dataset_op.cc:390] Filling up shuffle buffer (this may take a while): 5074 of 60000\n",
      "2022-12-19 18:24:13.719320: I tensorflow/core/kernels/data/shuffle_dataset_op.cc:390] Filling up shuffle buffer (this may take a while): 5792 of 60000\n",
      "2022-12-19 18:24:23.700019: I tensorflow/core/kernels/data/shuffle_dataset_op.cc:390] Filling up shuffle buffer (this may take a while): 6534 of 60000\n",
      "2022-12-19 18:24:33.696185: I tensorflow/core/kernels/data/shuffle_dataset_op.cc:390] Filling up shuffle buffer (this may take a while): 7279 of 60000\n",
      "2022-12-19 18:24:43.697281: I tensorflow/core/kernels/data/shuffle_dataset_op.cc:390] Filling up shuffle buffer (this may take a while): 8001 of 60000\n",
      "2022-12-19 18:24:53.713356: I tensorflow/core/kernels/data/shuffle_dataset_op.cc:390] Filling up shuffle buffer (this may take a while): 8718 of 60000\n",
      "2022-12-19 18:25:03.707308: I tensorflow/core/kernels/data/shuffle_dataset_op.cc:390] Filling up shuffle buffer (this may take a while): 9398 of 60000\n",
      "2022-12-19 18:25:13.698052: I tensorflow/core/kernels/data/shuffle_dataset_op.cc:390] Filling up shuffle buffer (this may take a while): 10137 of 60000\n",
      "2022-12-19 18:25:23.730340: I tensorflow/core/kernels/data/shuffle_dataset_op.cc:390] Filling up shuffle buffer (this may take a while): 10894 of 60000\n",
      "2022-12-19 18:25:33.728490: I tensorflow/core/kernels/data/shuffle_dataset_op.cc:390] Filling up shuffle buffer (this may take a while): 11613 of 60000\n",
      "2022-12-19 18:25:43.699793: I tensorflow/core/kernels/data/shuffle_dataset_op.cc:390] Filling up shuffle buffer (this may take a while): 12264 of 60000\n",
      "2022-12-19 18:25:53.697522: I tensorflow/core/kernels/data/shuffle_dataset_op.cc:390] Filling up shuffle buffer (this may take a while): 12991 of 60000\n",
      "2022-12-19 18:26:03.690276: I tensorflow/core/kernels/data/shuffle_dataset_op.cc:390] Filling up shuffle buffer (this may take a while): 13716 of 60000\n",
      "2022-12-19 18:26:13.710721: I tensorflow/core/kernels/data/shuffle_dataset_op.cc:390] Filling up shuffle buffer (this may take a while): 14431 of 60000\n",
      "2022-12-19 18:26:23.699925: I tensorflow/core/kernels/data/shuffle_dataset_op.cc:390] Filling up shuffle buffer (this may take a while): 15124 of 60000\n",
      "2022-12-19 18:26:33.716159: I tensorflow/core/kernels/data/shuffle_dataset_op.cc:390] Filling up shuffle buffer (this may take a while): 15749 of 60000\n",
      "2022-12-19 18:26:43.701275: I tensorflow/core/kernels/data/shuffle_dataset_op.cc:390] Filling up shuffle buffer (this may take a while): 16460 of 60000\n",
      "2022-12-19 18:26:53.698392: I tensorflow/core/kernels/data/shuffle_dataset_op.cc:390] Filling up shuffle buffer (this may take a while): 17197 of 60000\n",
      "2022-12-19 18:27:03.691197: I tensorflow/core/kernels/data/shuffle_dataset_op.cc:390] Filling up shuffle buffer (this may take a while): 17880 of 60000\n",
      "2022-12-19 18:27:13.709493: I tensorflow/core/kernels/data/shuffle_dataset_op.cc:390] Filling up shuffle buffer (this may take a while): 18605 of 60000\n",
      "2022-12-19 18:27:23.692776: I tensorflow/core/kernels/data/shuffle_dataset_op.cc:390] Filling up shuffle buffer (this may take a while): 19287 of 60000\n",
      "2022-12-19 18:27:33.706446: I tensorflow/core/kernels/data/shuffle_dataset_op.cc:390] Filling up shuffle buffer (this may take a while): 20027 of 60000\n",
      "2022-12-19 18:27:43.693299: I tensorflow/core/kernels/data/shuffle_dataset_op.cc:390] Filling up shuffle buffer (this may take a while): 20739 of 60000\n",
      "2022-12-19 18:27:53.714633: I tensorflow/core/kernels/data/shuffle_dataset_op.cc:390] Filling up shuffle buffer (this may take a while): 21442 of 60000\n",
      "2022-12-19 18:28:03.690699: I tensorflow/core/kernels/data/shuffle_dataset_op.cc:390] Filling up shuffle buffer (this may take a while): 22142 of 60000\n",
      "2022-12-19 18:28:13.692668: I tensorflow/core/kernels/data/shuffle_dataset_op.cc:390] Filling up shuffle buffer (this may take a while): 22864 of 60000\n",
      "2022-12-19 18:28:23.691638: I tensorflow/core/kernels/data/shuffle_dataset_op.cc:390] Filling up shuffle buffer (this may take a while): 23547 of 60000\n",
      "2022-12-19 18:28:33.732318: I tensorflow/core/kernels/data/shuffle_dataset_op.cc:390] Filling up shuffle buffer (this may take a while): 24318 of 60000\n",
      "2022-12-19 18:28:43.697678: I tensorflow/core/kernels/data/shuffle_dataset_op.cc:390] Filling up shuffle buffer (this may take a while): 25058 of 60000\n",
      "2022-12-19 18:28:53.694344: I tensorflow/core/kernels/data/shuffle_dataset_op.cc:390] Filling up shuffle buffer (this may take a while): 25774 of 60000\n",
      "2022-12-19 18:29:03.693355: I tensorflow/core/kernels/data/shuffle_dataset_op.cc:390] Filling up shuffle buffer (this may take a while): 26534 of 60000\n",
      "2022-12-19 18:29:13.700642: I tensorflow/core/kernels/data/shuffle_dataset_op.cc:390] Filling up shuffle buffer (this may take a while): 27269 of 60000\n",
      "2022-12-19 18:29:23.703696: I tensorflow/core/kernels/data/shuffle_dataset_op.cc:390] Filling up shuffle buffer (this may take a while): 27973 of 60000\n",
      "2022-12-19 18:29:33.709103: I tensorflow/core/kernels/data/shuffle_dataset_op.cc:390] Filling up shuffle buffer (this may take a while): 28681 of 60000\n",
      "2022-12-19 18:29:43.736421: I tensorflow/core/kernels/data/shuffle_dataset_op.cc:390] Filling up shuffle buffer (this may take a while): 29424 of 60000\n",
      "2022-12-19 18:29:53.700091: I tensorflow/core/kernels/data/shuffle_dataset_op.cc:390] Filling up shuffle buffer (this may take a while): 30153 of 60000\n",
      "2022-12-19 18:30:03.712113: I tensorflow/core/kernels/data/shuffle_dataset_op.cc:390] Filling up shuffle buffer (this may take a while): 30864 of 60000\n",
      "2022-12-19 18:30:13.698478: I tensorflow/core/kernels/data/shuffle_dataset_op.cc:390] Filling up shuffle buffer (this may take a while): 31549 of 60000\n",
      "2022-12-19 18:30:23.692263: I tensorflow/core/kernels/data/shuffle_dataset_op.cc:390] Filling up shuffle buffer (this may take a while): 32252 of 60000\n",
      "2022-12-19 18:30:33.716538: I tensorflow/core/kernels/data/shuffle_dataset_op.cc:390] Filling up shuffle buffer (this may take a while): 33000 of 60000\n",
      "2022-12-19 18:30:43.704893: I tensorflow/core/kernels/data/shuffle_dataset_op.cc:390] Filling up shuffle buffer (this may take a while): 33674 of 60000\n",
      "2022-12-19 18:30:53.711835: I tensorflow/core/kernels/data/shuffle_dataset_op.cc:390] Filling up shuffle buffer (this may take a while): 34362 of 60000\n",
      "2022-12-19 18:31:03.699317: I tensorflow/core/kernels/data/shuffle_dataset_op.cc:390] Filling up shuffle buffer (this may take a while): 35088 of 60000\n",
      "2022-12-19 18:31:13.701298: I tensorflow/core/kernels/data/shuffle_dataset_op.cc:390] Filling up shuffle buffer (this may take a while): 35797 of 60000\n",
      "2022-12-19 18:31:23.697721: I tensorflow/core/kernels/data/shuffle_dataset_op.cc:390] Filling up shuffle buffer (this may take a while): 36482 of 60000\n",
      "2022-12-19 18:31:33.712900: I tensorflow/core/kernels/data/shuffle_dataset_op.cc:390] Filling up shuffle buffer (this may take a while): 37200 of 60000\n",
      "2022-12-19 18:31:43.722133: I tensorflow/core/kernels/data/shuffle_dataset_op.cc:390] Filling up shuffle buffer (this may take a while): 37889 of 60000\n",
      "2022-12-19 18:31:53.693675: I tensorflow/core/kernels/data/shuffle_dataset_op.cc:390] Filling up shuffle buffer (this may take a while): 38599 of 60000\n"
     ]
    },
    {
     "name": "stderr",
     "output_type": "stream",
     "text": [
      "2022-12-19 18:32:03.711294: I tensorflow/core/kernels/data/shuffle_dataset_op.cc:390] Filling up shuffle buffer (this may take a while): 39306 of 60000\n",
      "2022-12-19 18:32:13.711212: I tensorflow/core/kernels/data/shuffle_dataset_op.cc:390] Filling up shuffle buffer (this may take a while): 40013 of 60000\n",
      "2022-12-19 18:32:23.706691: I tensorflow/core/kernels/data/shuffle_dataset_op.cc:390] Filling up shuffle buffer (this may take a while): 40714 of 60000\n",
      "2022-12-19 18:32:33.690853: I tensorflow/core/kernels/data/shuffle_dataset_op.cc:390] Filling up shuffle buffer (this may take a while): 41476 of 60000\n",
      "2022-12-19 18:32:43.708206: I tensorflow/core/kernels/data/shuffle_dataset_op.cc:390] Filling up shuffle buffer (this may take a while): 42155 of 60000\n",
      "2022-12-19 18:32:53.716073: I tensorflow/core/kernels/data/shuffle_dataset_op.cc:390] Filling up shuffle buffer (this may take a while): 42828 of 60000\n",
      "2022-12-19 18:33:03.699006: I tensorflow/core/kernels/data/shuffle_dataset_op.cc:390] Filling up shuffle buffer (this may take a while): 43514 of 60000\n",
      "2022-12-19 18:33:13.698391: I tensorflow/core/kernels/data/shuffle_dataset_op.cc:390] Filling up shuffle buffer (this may take a while): 44238 of 60000\n",
      "2022-12-19 18:33:23.689870: I tensorflow/core/kernels/data/shuffle_dataset_op.cc:390] Filling up shuffle buffer (this may take a while): 44974 of 60000\n",
      "2022-12-19 18:33:33.701496: I tensorflow/core/kernels/data/shuffle_dataset_op.cc:390] Filling up shuffle buffer (this may take a while): 45705 of 60000\n",
      "2022-12-19 18:33:43.692585: I tensorflow/core/kernels/data/shuffle_dataset_op.cc:390] Filling up shuffle buffer (this may take a while): 46415 of 60000\n",
      "2022-12-19 18:33:53.738800: I tensorflow/core/kernels/data/shuffle_dataset_op.cc:390] Filling up shuffle buffer (this may take a while): 47142 of 60000\n",
      "2022-12-19 18:34:03.700612: I tensorflow/core/kernels/data/shuffle_dataset_op.cc:390] Filling up shuffle buffer (this may take a while): 47842 of 60000\n",
      "2022-12-19 18:34:13.713943: I tensorflow/core/kernels/data/shuffle_dataset_op.cc:390] Filling up shuffle buffer (this may take a while): 48554 of 60000\n",
      "2022-12-19 18:34:23.695560: I tensorflow/core/kernels/data/shuffle_dataset_op.cc:390] Filling up shuffle buffer (this may take a while): 49258 of 60000\n",
      "2022-12-19 18:34:33.699803: I tensorflow/core/kernels/data/shuffle_dataset_op.cc:390] Filling up shuffle buffer (this may take a while): 49947 of 60000\n",
      "2022-12-19 18:34:43.710865: I tensorflow/core/kernels/data/shuffle_dataset_op.cc:390] Filling up shuffle buffer (this may take a while): 50633 of 60000\n",
      "2022-12-19 18:34:53.727121: I tensorflow/core/kernels/data/shuffle_dataset_op.cc:390] Filling up shuffle buffer (this may take a while): 51319 of 60000\n",
      "2022-12-19 18:35:03.708200: I tensorflow/core/kernels/data/shuffle_dataset_op.cc:390] Filling up shuffle buffer (this may take a while): 52063 of 60000\n",
      "2022-12-19 18:35:13.696189: I tensorflow/core/kernels/data/shuffle_dataset_op.cc:390] Filling up shuffle buffer (this may take a while): 52774 of 60000\n",
      "2022-12-19 18:35:23.701297: I tensorflow/core/kernels/data/shuffle_dataset_op.cc:390] Filling up shuffle buffer (this may take a while): 53464 of 60000\n",
      "2022-12-19 18:35:33.710014: I tensorflow/core/kernels/data/shuffle_dataset_op.cc:390] Filling up shuffle buffer (this may take a while): 54220 of 60000\n",
      "2022-12-19 18:35:43.689892: I tensorflow/core/kernels/data/shuffle_dataset_op.cc:390] Filling up shuffle buffer (this may take a while): 54929 of 60000\n",
      "2022-12-19 18:35:53.698953: I tensorflow/core/kernels/data/shuffle_dataset_op.cc:390] Filling up shuffle buffer (this may take a while): 55657 of 60000\n",
      "2022-12-19 18:36:03.700033: I tensorflow/core/kernels/data/shuffle_dataset_op.cc:390] Filling up shuffle buffer (this may take a while): 56398 of 60000\n",
      "2022-12-19 18:36:13.693748: I tensorflow/core/kernels/data/shuffle_dataset_op.cc:390] Filling up shuffle buffer (this may take a while): 57114 of 60000\n",
      "2022-12-19 18:36:23.691589: I tensorflow/core/kernels/data/shuffle_dataset_op.cc:390] Filling up shuffle buffer (this may take a while): 57828 of 60000\n",
      "2022-12-19 18:36:33.696344: I tensorflow/core/kernels/data/shuffle_dataset_op.cc:390] Filling up shuffle buffer (this may take a while): 58554 of 60000\n",
      "2022-12-19 18:36:43.690150: I tensorflow/core/kernels/data/shuffle_dataset_op.cc:390] Filling up shuffle buffer (this may take a while): 59251 of 60000\n",
      "2022-12-19 18:36:53.701912: I tensorflow/core/kernels/data/shuffle_dataset_op.cc:390] Filling up shuffle buffer (this may take a while): 59976 of 60000\n",
      "2022-12-19 18:36:53.969152: I tensorflow/core/kernels/data/shuffle_dataset_op.cc:415] Shuffle buffer filled.\n",
      "2022-12-19 18:38:37.080951: W tensorflow/core/framework/cpu_allocator_impl.cc:82] Allocation of 92160000 exceeds 10% of free system memory.\n",
      "2022-12-19 18:38:37.631152: W tensorflow/core/framework/cpu_allocator_impl.cc:82] Allocation of 92160000 exceeds 10% of free system memory.\n"
     ]
    },
    {
     "name": "stdout",
     "output_type": "stream",
     "text": [
      "(7500, 32, 32, 3) (7500, 5)\n",
      "Epoch 1/50\n",
      "  3/150 [..............................] - ETA: 8s - loss: 1.6200 - accuracy: 0.2867 "
     ]
    },
    {
     "name": "stderr",
     "output_type": "stream",
     "text": [
      "2022-12-19 18:38:42.845714: W tensorflow/core/framework/cpu_allocator_impl.cc:82] Allocation of 24385536 exceeds 10% of free system memory.\n",
      "2022-12-19 18:38:42.869310: W tensorflow/core/framework/cpu_allocator_impl.cc:82] Allocation of 24385536 exceeds 10% of free system memory.\n",
      "2022-12-19 18:38:42.882254: W tensorflow/core/framework/cpu_allocator_impl.cc:82] Allocation of 23445504 exceeds 10% of free system memory.\n"
     ]
    },
    {
     "name": "stdout",
     "output_type": "stream",
     "text": [
      "150/150 [==============================] - 15s 70ms/step - loss: 0.4940 - accuracy: 0.8291\n",
      "Epoch 2/50\n",
      "150/150 [==============================] - 11s 70ms/step - loss: 0.1691 - accuracy: 0.9400\n",
      "Epoch 3/50\n",
      "150/150 [==============================] - 10s 64ms/step - loss: 0.1327 - accuracy: 0.9549\n",
      "Epoch 4/50\n",
      "150/150 [==============================] - 9s 59ms/step - loss: 0.1183 - accuracy: 0.9615\n",
      "Epoch 5/50\n",
      "150/150 [==============================] - 11s 72ms/step - loss: 0.1112 - accuracy: 0.9621\n",
      "Epoch 6/50\n",
      "150/150 [==============================] - 11s 72ms/step - loss: 0.0979 - accuracy: 0.9663\n",
      "Epoch 7/50\n",
      "150/150 [==============================] - 11s 72ms/step - loss: 0.0991 - accuracy: 0.9637\n",
      "Epoch 8/50\n",
      "150/150 [==============================] - 11s 72ms/step - loss: 0.0895 - accuracy: 0.9697\n",
      "Epoch 9/50\n",
      "150/150 [==============================] - 11s 71ms/step - loss: 0.0832 - accuracy: 0.9715\n",
      "Epoch 10/50\n",
      "150/150 [==============================] - 11s 72ms/step - loss: 0.0737 - accuracy: 0.9740\n",
      "Epoch 11/50\n",
      "150/150 [==============================] - 11s 74ms/step - loss: 0.0677 - accuracy: 0.9757\n",
      "Epoch 12/50\n",
      "150/150 [==============================] - 11s 72ms/step - loss: 0.0603 - accuracy: 0.9793\n",
      "Epoch 13/50\n",
      "150/150 [==============================] - 11s 71ms/step - loss: 0.0862 - accuracy: 0.9703\n",
      "Epoch 14/50\n",
      "150/150 [==============================] - 11s 72ms/step - loss: 0.0541 - accuracy: 0.9819\n",
      "Epoch 15/50\n",
      "150/150 [==============================] - 11s 72ms/step - loss: 0.0518 - accuracy: 0.9832\n",
      "Epoch 16/50\n",
      "150/150 [==============================] - 11s 73ms/step - loss: 0.0421 - accuracy: 0.9865\n",
      "Epoch 17/50\n",
      "150/150 [==============================] - 10s 64ms/step - loss: 0.0441 - accuracy: 0.9843\n",
      "Epoch 18/50\n",
      "150/150 [==============================] - 11s 73ms/step - loss: 0.0424 - accuracy: 0.9847\n",
      "Epoch 19/50\n",
      "150/150 [==============================] - 11s 73ms/step - loss: 0.0445 - accuracy: 0.9847\n",
      "Epoch 20/50\n",
      "150/150 [==============================] - 11s 74ms/step - loss: 0.0375 - accuracy: 0.9856\n",
      "Epoch 21/50\n",
      "150/150 [==============================] - 11s 75ms/step - loss: 0.0448 - accuracy: 0.9839\n",
      "Epoch 22/50\n",
      "150/150 [==============================] - 12s 77ms/step - loss: 0.0318 - accuracy: 0.9897\n",
      "Epoch 23/50\n",
      "150/150 [==============================] - 11s 76ms/step - loss: 0.0377 - accuracy: 0.9863\n",
      "Epoch 24/50\n",
      "150/150 [==============================] - 11s 75ms/step - loss: 0.0262 - accuracy: 0.9911\n",
      "Epoch 25/50\n",
      "150/150 [==============================] - 12s 77ms/step - loss: 0.0339 - accuracy: 0.9875\n",
      "Epoch 26/50\n",
      "150/150 [==============================] - 12s 77ms/step - loss: 0.0317 - accuracy: 0.9893\n",
      "Epoch 27/50\n",
      "150/150 [==============================] - 12s 77ms/step - loss: 0.0343 - accuracy: 0.9869\n",
      "Epoch 28/50\n",
      "150/150 [==============================] - 11s 76ms/step - loss: 0.0308 - accuracy: 0.9899\n",
      "Epoch 29/50\n",
      "150/150 [==============================] - 11s 75ms/step - loss: 0.0324 - accuracy: 0.9883\n",
      "Epoch 30/50\n",
      "150/150 [==============================] - 11s 76ms/step - loss: 0.0191 - accuracy: 0.9932\n",
      "Epoch 31/50\n",
      "150/150 [==============================] - 11s 75ms/step - loss: 0.0261 - accuracy: 0.9911\n",
      "Epoch 32/50\n",
      "150/150 [==============================] - 12s 77ms/step - loss: 0.0356 - accuracy: 0.9864\n",
      "Epoch 33/50\n",
      "150/150 [==============================] - 12s 78ms/step - loss: 0.0250 - accuracy: 0.9908\n",
      "Epoch 34/50\n",
      "150/150 [==============================] - 11s 76ms/step - loss: 0.0191 - accuracy: 0.9937\n",
      "Epoch 35/50\n",
      "150/150 [==============================] - 11s 75ms/step - loss: 0.0257 - accuracy: 0.9900\n",
      "Epoch 36/50\n",
      "150/150 [==============================] - 11s 76ms/step - loss: 0.0172 - accuracy: 0.9943\n",
      "Epoch 37/50\n",
      "150/150 [==============================] - 11s 76ms/step - loss: 0.0155 - accuracy: 0.9944\n",
      "Epoch 38/50\n",
      "150/150 [==============================] - 12s 77ms/step - loss: 0.0147 - accuracy: 0.9953\n",
      "Epoch 39/50\n",
      "150/150 [==============================] - 11s 75ms/step - loss: 0.0175 - accuracy: 0.9937\n",
      "Epoch 40/50\n",
      "150/150 [==============================] - 10s 68ms/step - loss: 0.0188 - accuracy: 0.9933\n",
      "Epoch 41/50\n",
      "150/150 [==============================] - 11s 76ms/step - loss: 0.0172 - accuracy: 0.9940\n",
      "Epoch 42/50\n",
      "150/150 [==============================] - 11s 76ms/step - loss: 0.0120 - accuracy: 0.9956\n",
      "Epoch 43/50\n",
      "150/150 [==============================] - 12s 77ms/step - loss: 0.0155 - accuracy: 0.9939\n",
      "Epoch 44/50\n",
      "150/150 [==============================] - 11s 76ms/step - loss: 0.0138 - accuracy: 0.9953\n",
      "Epoch 45/50\n",
      "150/150 [==============================] - 11s 75ms/step - loss: 0.0586 - accuracy: 0.9793\n",
      "Epoch 46/50\n",
      "150/150 [==============================] - 12s 77ms/step - loss: 0.0199 - accuracy: 0.9924\n",
      "Epoch 47/50\n",
      "150/150 [==============================] - 11s 76ms/step - loss: 0.0094 - accuracy: 0.9965\n",
      "Epoch 48/50\n",
      "150/150 [==============================] - 12s 77ms/step - loss: 0.0068 - accuracy: 0.9985\n",
      "Epoch 49/50\n",
      "150/150 [==============================] - 12s 77ms/step - loss: 0.0169 - accuracy: 0.9939\n",
      "Epoch 50/50\n",
      "150/150 [==============================] - 11s 77ms/step - loss: 0.0117 - accuracy: 0.9963\n"
     ]
    }
   ],
   "source": [
    "for features,labels in data:\n",
    "    features=tf.divide(features,255)\n",
    "    labels=tf.one_hot(labels,5)\n",
    "    print(features.shape,labels.shape)\n",
    "    record=cnn_model.fit(features,labels,batch_size=50,epochs=50)\n",
    "    break"
   ]
  },
  {
   "cell_type": "code",
   "execution_count": 14,
   "id": "cc46e66b",
   "metadata": {},
   "outputs": [],
   "source": [
    "model=cnn_model.save(\"rice_pred.h5\",save_format=\"h5\")\n",
    "model"
   ]
  },
  {
   "cell_type": "code",
   "execution_count": 15,
   "id": "8350e977",
   "metadata": {},
   "outputs": [
    {
     "name": "stdout",
     "output_type": "stream",
     "text": [
      "Model: \"sequential\"\n",
      "_________________________________________________________________\n",
      " Layer (type)                Output Shape              Param #   \n",
      "=================================================================\n",
      " conv2d (Conv2D)             (None, 32, 32, 9)         252       \n",
      "                                                                 \n",
      " max_pooling2d (MaxPooling2D  (None, 16, 16, 9)        0         \n",
      " )                                                               \n",
      "                                                                 \n",
      " conv2d_1 (Conv2D)           (None, 16, 16, 18)        1476      \n",
      "                                                                 \n",
      " max_pooling2d_1 (MaxPooling  (None, 8, 8, 18)         0         \n",
      " 2D)                                                             \n",
      "                                                                 \n",
      " conv2d_2 (Conv2D)           (None, 6, 6, 36)          5868      \n",
      "                                                                 \n",
      " max_pooling2d_2 (MaxPooling  (None, 3, 3, 36)         0         \n",
      " 2D)                                                             \n",
      "                                                                 \n",
      " flatten (Flatten)           (None, 324)               0         \n",
      "                                                                 \n",
      " dense (Dense)               (None, 64)                20800     \n",
      "                                                                 \n",
      " dense_1 (Dense)             (None, 5)                 325       \n",
      "                                                                 \n",
      " softmax (Softmax)           (None, 5)                 0         \n",
      "                                                                 \n",
      "=================================================================\n",
      "Total params: 28,721\n",
      "Trainable params: 28,721\n",
      "Non-trainable params: 0\n",
      "_________________________________________________________________\n"
     ]
    }
   ],
   "source": [
    "model1=tf.keras.models.load_model(\"rice_pred.h5\")\n",
    "model1.summary()"
   ]
  },
  {
   "cell_type": "code",
   "execution_count": null,
   "id": "dcfd3c18",
   "metadata": {},
   "outputs": [],
   "source": []
  }
 ],
 "metadata": {
  "kernelspec": {
   "display_name": "Python 3 (ipykernel)",
   "language": "python",
   "name": "python3"
  },
  "language_info": {
   "codemirror_mode": {
    "name": "ipython",
    "version": 3
   },
   "file_extension": ".py",
   "mimetype": "text/x-python",
   "name": "python",
   "nbconvert_exporter": "python",
   "pygments_lexer": "ipython3",
   "version": "3.9.12"
  }
 },
 "nbformat": 4,
 "nbformat_minor": 5
}
